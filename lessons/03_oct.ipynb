{
 "cells": [
  {
   "cell_type": "markdown",
   "metadata": {},
   "source": [
    "## Clase 3 de octubre"
   ]
  },
  {
   "cell_type": "markdown",
   "metadata": {},
   "source": [
    "### Ejercicio 1"
   ]
  },
  {
   "cell_type": "code",
   "execution_count": 22,
   "metadata": {},
   "outputs": [],
   "source": [
    "from Bio import PDB\n",
    "parser = PDB.PDBParser(QUIET=True)"
   ]
  },
  {
   "cell_type": "markdown",
   "metadata": {},
   "source": [
    "#### Prot unknown 1"
   ]
  },
  {
   "cell_type": "code",
   "execution_count": 48,
   "metadata": {},
   "outputs": [],
   "source": [
    "struc = parser.get_structure('unkwn_1', './../../../../PDB_class_files/unknown1.pdb')"
   ]
  },
  {
   "cell_type": "code",
   "execution_count": 49,
   "metadata": {},
   "outputs": [
    {
     "data": {
      "text/plain": [
       "('x-ray diffraction', 1.85)"
      ]
     },
     "execution_count": 49,
     "metadata": {},
     "output_type": "execute_result"
    }
   ],
   "source": [
    "struc.header['structure_method'], struc.header['resolution']"
   ]
  },
  {
   "cell_type": "markdown",
   "metadata": {},
   "source": [
    "### Cisteínas en prot unknown 1"
   ]
  },
  {
   "cell_type": "code",
   "execution_count": 56,
   "metadata": {},
   "outputs": [],
   "source": [
    "def get_cys(struc):\n",
    "    cys_info = {}\n",
    "    for model in struc:\n",
    "        cys_info[model] = {}\n",
    "        for chain in model:\n",
    "            cys_info[model][chain] = []\n",
    "            for residue in chain:\n",
    "                if residue.get_resname() == 'CYS':\n",
    "                    cys_info[model][chain].append(residue)\n",
    "\n",
    "    return cys_info"
   ]
  },
  {
   "cell_type": "code",
   "execution_count": 57,
   "metadata": {},
   "outputs": [
    {
     "data": {
      "text/plain": [
       "{<Model id=0>: {<Chain id=A>: [<Residue CYS het=  resseq=179 icode= >,\n",
       "   <Residue CYS het=  resseq=223 icode= >,\n",
       "   <Residue CYS het=  resseq=280 icode= >,\n",
       "   <Residue CYS het=  resseq=291 icode= >,\n",
       "   <Residue CYS het=  resseq=312 icode= >,\n",
       "   <Residue CYS het=  resseq=313 icode= >,\n",
       "   <Residue CYS het=  resseq=316 icode= >,\n",
       "   <Residue CYS het=  resseq=329 icode= >]}}"
      ]
     },
     "execution_count": 57,
     "metadata": {},
     "output_type": "execute_result"
    }
   ],
   "source": [
    "get_cys(struc)"
   ]
  },
  {
   "cell_type": "markdown",
   "metadata": {},
   "source": [
    "#### Átomos"
   ]
  },
  {
   "cell_type": "code",
   "execution_count": 114,
   "metadata": {},
   "outputs": [
    {
     "name": "stdout",
     "output_type": "stream",
     "text": [
      "<Residue CYS het=  resseq=179 icode= >\n",
      "Distancia entre CA y N: 1.4601002931594849\n",
      "Distancia entre C y C: 1.5246273279190063\n",
      "Distancia entre O y C: 1.2297801971435547\n",
      "Distancia entre CB y O: 3.2260329723358154\n",
      "Distancia entre SG y C: 1.80206298828125\n",
      "<Residue CYS het=  resseq=223 icode= >\n",
      "Distancia entre CA y N: 1.4552230834960938\n",
      "Distancia entre C y C: 1.5183707475662231\n",
      "Distancia entre O y C: 1.230036973953247\n",
      "Distancia entre CB y O: 3.458324909210205\n",
      "Distancia entre SG y C: 1.8044993877410889\n",
      "<Residue CYS het=  resseq=280 icode= >\n",
      "Distancia entre CA y N: 1.4537198543548584\n",
      "Distancia entre C y C: 1.5218491554260254\n",
      "Distancia entre O y C: 1.2303451299667358\n",
      "Distancia entre CB y O: 3.1620726585388184\n",
      "Distancia entre SG y C: 1.8016756772994995\n",
      "<Residue CYS het=  resseq=291 icode= >\n",
      "Distancia entre CA y N: 1.4596995115280151\n",
      "Distancia entre C y C: 1.5259733200073242\n",
      "Distancia entre O y C: 1.23078453540802\n",
      "Distancia entre CB y O: 3.2857131958007812\n",
      "Distancia entre SG y C: 1.808471441268921\n",
      "<Residue CYS het=  resseq=312 icode= >\n",
      "Distancia entre CA y N: 1.4590904712677002\n",
      "Distancia entre C y C: 1.5265804529190063\n",
      "Distancia entre O y C: 1.2301174402236938\n",
      "Distancia entre CB y O: 3.3928022384643555\n",
      "Distancia entre SG y C: 1.8119970560073853\n",
      "<Residue CYS het=  resseq=313 icode= >\n",
      "Distancia entre CA y N: 1.4614121913909912\n",
      "Distancia entre C y C: 1.5242209434509277\n",
      "Distancia entre O y C: 1.2317204475402832\n",
      "Distancia entre CB y O: 3.2192983627319336\n",
      "Distancia entre SG y C: 1.8083171844482422\n",
      "<Residue CYS het=  resseq=316 icode= >\n",
      "Distancia entre CA y N: 1.4562093019485474\n",
      "Distancia entre C y C: 1.5237799882888794\n",
      "Distancia entre O y C: 1.2314611673355103\n",
      "Distancia entre CB y O: 3.4066619873046875\n",
      "Distancia entre SG y C: 1.8096859455108643\n",
      "<Residue CYS het=  resseq=329 icode= >\n",
      "Distancia entre CA y N: 1.4553788900375366\n",
      "Distancia entre C y C: 1.5309171676635742\n",
      "Distancia entre O y C: 1.229261875152588\n",
      "Distancia entre CB y O: 3.127568483352661\n",
      "Distancia entre SG y C: 1.795720100402832\n"
     ]
    }
   ],
   "source": [
    "for model in struc:\n",
    "    for chain in model:\n",
    "        for residue in chain:\n",
    "            if residue.get_resname() == 'CYS':\n",
    "                print(residue)\n",
    "                atoms = []\n",
    "                for i, atom in enumerate(residue):\n",
    "                    atoms.append(atom)\n",
    "                    if i != 0:\n",
    "                        print(f'Distancia entre {atoms[i].element} y {atoms[i-1].element}: {atoms[i] - atoms[i-1]}')"
   ]
  },
  {
   "cell_type": "markdown",
   "metadata": {},
   "source": [
    "### Ejercicio 4"
   ]
  },
  {
   "cell_type": "code",
   "execution_count": 100,
   "metadata": {},
   "outputs": [
    {
     "data": {
      "text/plain": [
       "{<Model id=0>: {<Chain id=A>: [<Residue CYS het=  resseq=179 icode= >,\n",
       "   <Residue CYS het=  resseq=223 icode= >,\n",
       "   <Residue CYS het=  resseq=280 icode= >,\n",
       "   <Residue CYS het=  resseq=291 icode= >,\n",
       "   <Residue CYS het=  resseq=312 icode= >,\n",
       "   <Residue CYS het=  resseq=313 icode= >,\n",
       "   <Residue CYS het=  resseq=316 icode= >,\n",
       "   <Residue CYS het=  resseq=329 icode= >]}}"
      ]
     },
     "execution_count": 100,
     "metadata": {},
     "output_type": "execute_result"
    }
   ],
   "source": [
    "cys = get_cys(struc)\n",
    "cys"
   ]
  },
  {
   "cell_type": "code",
   "execution_count": 132,
   "metadata": {},
   "outputs": [],
   "source": [
    "for model,chain in cys.items():\n",
    "    for cys_res in chain.values():\n",
    "        pares = []\n",
    "        for i,cys_1 in enumerate(cys_res):\n",
    "            for cys_2 in range(i,len(cys_res)):\n",
    "                if cys_1 != cys_res[cys_2]:\n",
    "                    dist = cys_1['SG'] - cys_res[cys_2]['SG']\n",
    "                    if dist < 8:\n",
    "                        pares.append((cys_1,cys_res[cys_2]))"
   ]
  },
  {
   "cell_type": "code",
   "execution_count": 133,
   "metadata": {},
   "outputs": [
    {
     "data": {
      "text/plain": [
       "[(<Residue CYS het=  resseq=179 icode= >,\n",
       "  <Residue CYS het=  resseq=223 icode= >),\n",
       " (<Residue CYS het=  resseq=280 icode= >,\n",
       "  <Residue CYS het=  resseq=329 icode= >),\n",
       " (<Residue CYS het=  resseq=291 icode= >,\n",
       "  <Residue CYS het=  resseq=312 icode= >),\n",
       " (<Residue CYS het=  resseq=291 icode= >,\n",
       "  <Residue CYS het=  resseq=313 icode= >),\n",
       " (<Residue CYS het=  resseq=312 icode= >,\n",
       "  <Residue CYS het=  resseq=313 icode= >),\n",
       " (<Residue CYS het=  resseq=313 icode= >,\n",
       "  <Residue CYS het=  resseq=316 icode= >)]"
      ]
     },
     "execution_count": 133,
     "metadata": {},
     "output_type": "execute_result"
    }
   ],
   "source": [
    "pares"
   ]
  }
 ],
 "metadata": {
  "kernelspec": {
   "display_name": "netective",
   "language": "python",
   "name": "python3"
  },
  "language_info": {
   "codemirror_mode": {
    "name": "ipython",
    "version": 3
   },
   "file_extension": ".py",
   "mimetype": "text/x-python",
   "name": "python",
   "nbconvert_exporter": "python",
   "pygments_lexer": "ipython3",
   "version": "3.8.16"
  },
  "orig_nbformat": 4
 },
 "nbformat": 4,
 "nbformat_minor": 2
}

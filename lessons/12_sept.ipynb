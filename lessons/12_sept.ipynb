{
 "cells": [
  {
   "cell_type": "code",
   "execution_count": 27,
   "metadata": {},
   "outputs": [],
   "source": [
    "from Bio.Seq import MutableSeq, Seq\n",
    "import re"
   ]
  },
  {
   "cell_type": "markdown",
   "metadata": {},
   "source": [
    "### Seq"
   ]
  },
  {
   "cell_type": "code",
   "execution_count": 30,
   "metadata": {},
   "outputs": [
    {
     "name": "stdout",
     "output_type": "stream",
     "text": [
      "TAG\n",
      "CAA\n",
      "ATC\n",
      "ATG\n",
      "GCT\n",
      "UAG\n",
      "GAT\n"
     ]
    }
   ],
   "source": [
    "b = Seq('TAGCAAATCATGGCTUAGGAT')\n",
    "\n",
    "for codon in re.findall(r'(.{3})', str(b)):\n",
    "    print(codon)"
   ]
  },
  {
   "cell_type": "markdown",
   "metadata": {},
   "source": [
    "### SeqUtils"
   ]
  },
  {
   "cell_type": "code",
   "execution_count": 37,
   "metadata": {},
   "outputs": [
    {
     "name": "stdout",
     "output_type": "stream",
     "text": [
      "['ACG', 7, 31]\n",
      "['CGT', 11, 28]\n",
      "59.523809523809526\n"
     ]
    },
    {
     "name": "stderr",
     "output_type": "stream",
     "text": [
      "c:\\Users\\PepeS\\miniconda3\\lib\\site-packages\\Bio\\SeqUtils\\__init__.py:144: BiopythonDeprecationWarning: GC is deprecated; please use gc_fraction instead.\n",
      "  warnings.warn(\n"
     ]
    }
   ],
   "source": [
    "from Bio import SeqUtils\n",
    "\n",
    "pattern = Seq(\"ACG\")\n",
    "sequence = Seq(\"ATGCGCGACGGCGTGATCAGCTTATAGCCGTACGACTGCTGC\")\n",
    "\n",
    "print(SeqUtils.nt_search(str(sequence), pattern))\n",
    "print(SeqUtils.nt_search(str(sequence), pattern.reverse_complement()))\n",
    "print(SeqUtils.GC(sequence))"
   ]
  },
  {
   "cell_type": "markdown",
   "metadata": {},
   "source": [
    "### Ejercicio"
   ]
  },
  {
   "cell_type": "code",
   "execution_count": 62,
   "metadata": {},
   "outputs": [
    {
     "name": "stdout",
     "output_type": "stream",
     "text": [
      "Original\n",
      "Primer ORF: SHVANSGYMGMTPRLGLESLLE*A*MIRVASQ\n",
      "Segundo ORF: AM*LTQVTWG*PRDLD*SLFWNKPE*SE*HL\n",
      "Tercer ORF: PCS*LRLHGDDPATWIRVSFGISLNDPSSIS\n",
      "\n",
      "Reverse compliment\n",
      "Primer ORF: LRCYSDHSGLFQKRL*SKSRGHPHVT*VSYMA\n",
      "Segundo ORF: *DATRIIQAYSKRDSNPSRGVIPM*PELATW\n",
      "Tercer ORF: EMLLGSFRLIPKETLIQVAGSSPCNLS*LHG\n"
     ]
    }
   ],
   "source": [
    "sequence = Seq('AGCCATGTAGCTAACTCAGGTTACATGGGGATGACCCCGCGACTTGGATTAGAGTCTCTTTTGGAATAAGCCTGAATGATCCGAGTAGCATCTCAG')\n",
    "print('Original')\n",
    "print(f'Primer ORF: {sequence.translate()}\\nSegundo ORF: {sequence[1:].translate()}\\nTercer ORF: {sequence[2:].translate()}')\n",
    "\n",
    "print('\\nReverse compliment')\n",
    "print(f'Primer ORF: {sequence.reverse_complement().translate()}\\nSegundo ORF: {sequence.reverse_complement()[1:].translate()}\\nTercer ORF: {sequence.reverse_complement()[2:].translate()}')\n"
   ]
  },
  {
   "cell_type": "markdown",
   "metadata": {},
   "source": [
    "### Automatizado considerando ORFs diferentes"
   ]
  },
  {
   "cell_type": "code",
   "execution_count": 75,
   "metadata": {},
   "outputs": [
    {
     "data": {
      "text/plain": [
       "(Seq('ATGTAGCTAACTCAGGTTACATGGGGATGACCCCGCGACTTGGATTAGAGTCTC...CAG'),\n",
       " Seq('GATGCTACTCGGATCATTCAGGCTTATTCCAAAAGAGACTCTAATCCAAGTCGC...GCT'))"
      ]
     },
     "execution_count": 75,
     "metadata": {},
     "output_type": "execute_result"
    }
   ],
   "source": [
    "sequence[4:], sequence.reverse_complement()[4:]"
   ]
  },
  {
   "cell_type": "code",
   "execution_count": 74,
   "metadata": {},
   "outputs": [
    {
     "name": "stdout",
     "output_type": "stream",
     "text": [
      "Para: ATGTAGCTAACTCAGGTTACATGGGGATGACCCCGCGACTTGGATTAGAGTCTCTTTTGGAATAAGCCTGAATGATCCGAGTAGCATCTCAG\n",
      "Original\n",
      "Primer ORF: M\n",
      "Segundo ORF: CS\n",
      "Tercer ORF: VANSGYMGMTPRLGLESLLE\n",
      "Reverse compliment\n",
      "Primer ORF: LRCYSDHSGLFQKRL\n",
      "Segundo ORF: \n",
      "Tercer ORF: EMLLGSFRLIPKETLIQVAGSSPCNLS\n",
      "\n",
      "\n",
      "Para: ATGGGGATGACCCCGCGACTTGGATTAGAGTCTCTTTTGGAATAAGCCTGAATGATCCGAGTAGCATCTCAG\n",
      "Original\n",
      "Primer ORF: MGMTPRLGLESLLE\n",
      "Segundo ORF: WG\n",
      "Tercer ORF: GDDPATWIRVSFGISLNDPSSIS\n",
      "Reverse compliment\n",
      "Primer ORF: LRCYSDHSGLFQKRL\n",
      "Segundo ORF: \n",
      "Tercer ORF: EMLLGSFRLIPKETLIQVAGSSP\n",
      "\n",
      "\n",
      "Para: ATGACCCCGCGACTTGGATTAGAGTCTCTTTTGGAATAAGCCTGAATGATCCGAGTAGCATCTCAG\n",
      "Original\n",
      "Primer ORF: MTPRLGLESLLE\n",
      "Segundo ORF: \n",
      "Tercer ORF: DPATWIRVSFGISLNDPSSIS\n",
      "Reverse compliment\n",
      "Primer ORF: LRCYSDHSGLFQKRL\n",
      "Segundo ORF: \n",
      "Tercer ORF: EMLLGSFRLIPKETLIQVAGS\n",
      "\n",
      "\n",
      "Para: ATGATCCGAGTAGCATCTCAG\n",
      "Original\n",
      "Primer ORF: MIRVASQ\n",
      "Segundo ORF: \n",
      "Tercer ORF: DPSSIS\n",
      "Reverse compliment\n",
      "Primer ORF: LRCYSDH\n",
      "Segundo ORF: \n",
      "Tercer ORF: EMLLGS\n",
      "\n",
      "\n"
     ]
    },
    {
     "name": "stderr",
     "output_type": "stream",
     "text": [
      "c:\\Users\\PepeS\\miniconda3\\lib\\site-packages\\Bio\\Seq.py:2804: BiopythonWarning: Partial codon, len(sequence) not a multiple of three. Explicitly trim the sequence or add trailing N before translation. This may become an error in future.\n",
      "  warnings.warn(\n"
     ]
    }
   ],
   "source": [
    "starts = SeqUtils.nt_search(str(sequence), 'ATG')[1:]\n",
    "rev_starts = SeqUtils.nt_search(str(sequence.reverse_complement()), 'ATG')[1:]\n",
    "for i,j in zip(starts, rev_starts):\n",
    "    new_seq = sequence[i:]\n",
    "    rev_new_seq\n",
    "    print(f'Para: {new_seq}')\n",
    "    print(f'Original\\nPrimer ORF: {new_seq.translate(to_stop=True)}\\nSegundo ORF: {new_seq[1:].translate(to_stop=True)}\\nTercer ORF: {new_seq[2:].translate(to_stop=True)}')\n",
    "\n",
    "    print(f'Reverse compliment\\nPrimer ORF: {new_seq.reverse_complement().translate(to_stop=True)}\\nSegundo ORF: {new_seq.reverse_complement()[1:].translate(to_stop=True)}\\nTercer ORF: {new_seq.reverse_complement()[2:].translate(to_stop=True)}\\n\\n')"
   ]
  },
  {
   "cell_type": "code",
   "execution_count": 8,
   "metadata": {},
   "outputs": [
    {
     "name": "stdout",
     "output_type": "stream",
     "text": [
      "ID seq1\n",
      "len 180\n",
      "Traducción KSSSR\n",
      "ID seq2\n",
      "len 180\n",
      "Traducción ATEPRTPT\n",
      "ID seq3\n",
      "len 98\n",
      "Traducción MKVT\n",
      "ID seq4\n",
      "len 209\n",
      "Traducción MLTKVSVRTCR\n"
     ]
    },
    {
     "name": "stderr",
     "output_type": "stream",
     "text": [
      "c:\\Users\\PepeS\\miniconda3\\envs\\netective\\lib\\site-packages\\Bio\\Seq.py:2334: BiopythonWarning: Partial codon, len(sequence) not a multiple of three. Explicitly trim the sequence or add trailing N before translation. This may become an error in future.\n",
      "  warnings.warn(\n"
     ]
    },
    {
     "data": {
      "text/plain": [
       "<Bio.SeqIO.FastaIO.FastaIterator at 0x1e3ba4d4a90>"
      ]
     },
     "execution_count": 8,
     "metadata": {},
     "output_type": "execute_result"
    }
   ],
   "source": [
    "from Bio import SeqIO\n",
    "secuencias = SeqIO.parse('./../data/seq.nt.fa', format= 'fasta')\n",
    "for record in secuencias:\n",
    "    print('ID {}'.format(record.id))\n",
    "    print('len {}'.format(len(record)))\n",
    "    print('Traducción {}'.format(record.seq.translate(to_stop=True)))\n",
    "\n",
    "secuencias"
   ]
  },
  {
   "cell_type": "markdown",
   "metadata": {},
   "source": [
    "### Tarea manejo de secuencias "
   ]
  },
  {
   "cell_type": "code",
   "execution_count": 25,
   "metadata": {},
   "outputs": [],
   "source": [
    "import numpy as np\n",
    "from Bio import SeqIO\n",
    "\n",
    "def poor_qc(file= str, threshold: int = 30) -> dict:\n",
    "    poor_seqs = {\n",
    "        record.id : record.seq\n",
    "        for record in SeqIO.parse(file, format='fastq')\n",
    "        if np.asarray(record.letter_annotations['phred_quality']).mean() < threshold\n",
    "    }\n",
    "    return poor_seqs\n",
    "\n",
    "poor_seqs = poor_qc(file= './../tareas/ManejoSecuencias/data/sample.fastq', threshold= 30)"
   ]
  },
  {
   "cell_type": "code",
   "execution_count": 26,
   "metadata": {},
   "outputs": [
    {
     "data": {
      "text/plain": [
       "5"
      ]
     },
     "execution_count": 26,
     "metadata": {},
     "output_type": "execute_result"
    }
   ],
   "source": [
    "len(poor_seqs)"
   ]
  }
 ],
 "metadata": {
  "kernelspec": {
   "display_name": "Python 3",
   "language": "python",
   "name": "python3"
  },
  "language_info": {
   "codemirror_mode": {
    "name": "ipython",
    "version": 3
   },
   "file_extension": ".py",
   "mimetype": "text/x-python",
   "name": "python",
   "nbconvert_exporter": "python",
   "pygments_lexer": "ipython3",
   "version": "3.8.16"
  },
  "orig_nbformat": 4
 },
 "nbformat": 4,
 "nbformat_minor": 2
}

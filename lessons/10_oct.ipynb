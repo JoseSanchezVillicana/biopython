{
 "cells": [
  {
   "cell_type": "markdown",
   "metadata": {},
   "source": [
    "## Einfo"
   ]
  },
  {
   "cell_type": "code",
   "execution_count": 1,
   "metadata": {},
   "outputs": [],
   "source": [
    "from Bio import Entrez\n",
    "from pprint import pprint"
   ]
  },
  {
   "cell_type": "code",
   "execution_count": 25,
   "metadata": {},
   "outputs": [
    {
     "name": "stdout",
     "output_type": "stream",
     "text": [
      "https://eutils.ncbi.nlm.nih.gov/entrez/eutils/einfo.fcgi?db=pubmed&tool=biopython&email=josesv%40lcg.unam.mx\n",
      "ALL, All Fields, All terms from all searchable fields\n",
      "UID, UID, Unique number assigned to publication\n",
      "FILT, Filter, Limits the records\n",
      "TITL, Title, Words in title of publication\n",
      "MESH, MeSH Terms, Medical Subject Headings assigned to publication\n",
      "MAJR, MeSH Major Topic, MeSH terms of major importance to publication\n",
      "JOUR, Journal, Journal abbreviation of publication\n",
      "AFFL, Affiliation, Author's institutional affiliation and address\n",
      "ECNO, EC/RN Number, EC number for enzyme or CAS registry number\n",
      "SUBS, Supplementary Concept, CAS chemical name or MEDLINE Substance Name\n",
      "PDAT, Date - Publication, Date of publication\n",
      "EDAT, Date - Entry, Date publication first accessible through Entrez\n",
      "VOL, Volume, Volume number of publication\n",
      "PAGE, Pagination, Page number(s) of publication\n",
      "PTYP, Publication Type, Type of publication (e.g., review)\n",
      "LANG, Language, Language of publication\n",
      "ISS, Issue, Issue number of publication\n",
      "SUBH, MeSH Subheading, Additional specificity for MeSH term\n",
      "SI, Secondary Source ID, Cross-reference from publication to other databases\n",
      "MHDA, Date - MeSH, Date publication was indexed with MeSH terms\n",
      "TIAB, Title/Abstract, Free text associated with Abstract/Title\n",
      "OTRM, Other Term, Other terms associated with publication\n",
      "COLN, Author - Corporate, Corporate Author of publication\n",
      "CNTY, Place of Publication, Country of publication\n",
      "PAPX, Pharmacological Action, MeSH pharmacological action pre-explosions\n",
      "GRNT, Grants and Funding, NIH Grant Numbers\n",
      "MDAT, Date - Modification, Date of last modification\n",
      "CDAT, Date - Completion, Date of completion\n",
      "PID, Publisher ID, Publisher ID\n",
      "FAUT, Author - First, First Author of publication\n",
      "FULL, Author, Full Author Name(s) of publication\n",
      "FINV, Investigator, Full name of investigator\n",
      "TT, Transliterated Title, Words in transliterated title of publication\n",
      "LAUT, Author - Last, Last Author of publication\n",
      "PPDT, Print Publication Date, Date of print publication\n",
      "EPDT, Electronic Publication Date, Date of Electronic publication\n",
      "LID, Location ID, ELocation ID\n",
      "CRDT, Date - Create, Date publication first accessible through Entrez\n",
      "BOOK, Book, ID of the book that contains the document\n",
      "ED, Editor, Section's Editor\n",
      "ISBN, ISBN, ISBN\n",
      "PUBN, Publisher, Publisher's name\n",
      "AUCL, Author Cluster ID, Author Cluster ID\n",
      "EID, Extended PMID, Extended PMID\n",
      "DSO, DSO, Additional text from the summary\n",
      "AUID, Author - Identifier, Author Identifier\n",
      "PS, Subject - Personal Name, Personal Name as Subject\n",
      "COIS, Conflict of Interest Statements, Conflict of Interest Statements\n",
      "WORD, Text Word, Free text associated with publication\n",
      "P1DAT, P1DAT, Date publication first accessible through Solr\n"
     ]
    }
   ],
   "source": [
    "Entrez.email = 'josesv@lcg.unam.mx'\n",
    "\n",
    "handle = Entrez.einfo(db = \"pubmed\") # indicar db de interes\n",
    "record = Entrez.read(handle)\n",
    "print(handle.url)\n",
    "handle.close() #cerramos handle\n",
    "\n",
    "for field in record[\"DbInfo\"][\"FieldList\"]:\n",
    "  print(\"%(Name)s, %(FullName)s, %(Description)s\" % field)\n"
   ]
  },
  {
   "cell_type": "markdown",
   "metadata": {},
   "source": [
    "## Esearch"
   ]
  },
  {
   "cell_type": "code",
   "execution_count": 27,
   "metadata": {},
   "outputs": [
    {
     "data": {
      "text/plain": [
       "'45'"
      ]
     },
     "execution_count": 27,
     "metadata": {},
     "output_type": "execute_result"
    }
   ],
   "source": [
    "handle = Entrez.esearch(db= 'pubmed', term= 'biopython')\n",
    "record = Entrez.read(handle)\n",
    "handle.close()\n",
    "record['Count']"
   ]
  },
  {
   "cell_type": "code",
   "execution_count": 29,
   "metadata": {},
   "outputs": [
    {
     "data": {
      "text/plain": [
       "dict_keys(['Count', 'RetMax', 'RetStart', 'IdList', 'TranslationSet', 'QueryTranslation'])"
      ]
     },
     "execution_count": 29,
     "metadata": {},
     "output_type": "execute_result"
    }
   ],
   "source": [
    "count = int(record['Count'])\n",
    "handle = Entrez.esearch(db= 'pubmed', term= 'biopython', retmax= count)\n",
    "record = Entrez.read(handle)\n",
    "handle.close()\n",
    "record.keys()"
   ]
  },
  {
   "cell_type": "markdown",
   "metadata": {},
   "source": [
    "Para buscar autores"
   ]
  },
  {
   "cell_type": "code",
   "execution_count": 31,
   "metadata": {},
   "outputs": [
    {
     "data": {
      "text/plain": [
       "{'Count': '10', 'RetMax': '10', 'RetStart': '0', 'IdList': ['37764160', '37439781', '37424542', '37333444', '35766493', '35075990', '34282943', '32611704', '31406982', '30625167'], 'TranslationSet': [{'From': 'Mateo-Estrada V', 'To': 'mateo estrada v[Author]'}], 'QueryTranslation': 'mateo estrada v[Author]'}"
      ]
     },
     "execution_count": 31,
     "metadata": {},
     "output_type": "execute_result"
    }
   ],
   "source": [
    "handle = Entrez.esearch(db= 'pubmed', term= 'Mateo-Estrada V', field= 'AUTH')\n",
    "record = Entrez.read(handle)\n",
    "handle.close()\n",
    "record"
   ]
  },
  {
   "cell_type": "code",
   "execution_count": 32,
   "metadata": {},
   "outputs": [
    {
     "data": {
      "text/plain": [
       "{'Count': '10', 'RetMax': '10', 'RetStart': '0', 'IdList': ['37764160', '37439781', '37424542', '37333444', '35766493', '35075990', '34282943', '32611704', '31406982', '30625167'], 'TranslationSet': [{'From': 'Valeria Mateo-Estrada[AUTH]', 'To': 'Mateo Estrada, Valeria[Full Author Name]'}], 'QueryTranslation': 'mateo estrada, valeria[Author]'}"
      ]
     },
     "execution_count": 32,
     "metadata": {},
     "output_type": "execute_result"
    }
   ],
   "source": [
    "handle = Entrez.esearch(db= 'pubmed', term= 'Valeria Mateo-Estrada[AUTH]')\n",
    "record = Entrez.read(handle)\n",
    "handle.close()\n",
    "record"
   ]
  },
  {
   "cell_type": "code",
   "execution_count": 34,
   "metadata": {},
   "outputs": [
    {
     "name": "stdout",
     "output_type": "stream",
     "text": [
      "['37802532', '37783800', '37644081', '37628677', '37543604', '37510347', '37438463', '37184895', '36901688', '36817976', '36788607', '36786616', '36703236', '36587808', '36512510', '36473637', '36182902', '36121852', '35913994', '35763539']\n"
     ]
    }
   ],
   "source": [
    "termino = \"(Aedes[Title] OR Aedes[All Fields])AND((RNA-Seq[Title] OR transcriptomic[Title]) OR (transcriptome[Title] OR sequencing[Title]))\"\n",
    "handle = Entrez.esearch(db=\"pubmed\", term=termino)\n",
    "result = Entrez.read(handle)\n",
    "handle.close()\n",
    "print(result[\"IdList\"])"
   ]
  },
  {
   "cell_type": "markdown",
   "metadata": {},
   "source": [
    "## Tarea 1"
   ]
  },
  {
   "cell_type": "code",
   "execution_count": 65,
   "metadata": {},
   "outputs": [
    {
     "name": "stdout",
     "output_type": "stream",
     "text": [
      "ECNO: EC number for enzyme or CAS registry number\n",
      "protein_protein_small_genome: All proteins from this genome\n"
     ]
    }
   ],
   "source": [
    "handle = Entrez.einfo(db= 'protein')\n",
    "record = Entrez.read(handle)\n",
    "handle.close()\n",
    "\n",
    "for field in record['DbInfo']['FieldList']:\n",
    "    if field['Name'] == 'ECNO':\n",
    "        print(f'{field[\"Name\"]}: {field[\"Description\"]}')\n",
    "\n",
    "for field in record['DbInfo']['LinkList']:\n",
    "    if field['Name'] == 'protein_protein_small_genome':\n",
    "        print(f\"{field['Name']}: {field['Description']}\")"
   ]
  },
  {
   "cell_type": "code",
   "execution_count": null,
   "metadata": {},
   "outputs": [],
   "source": []
  }
 ],
 "metadata": {
  "kernelspec": {
   "display_name": "netective",
   "language": "python",
   "name": "python3"
  },
  "language_info": {
   "codemirror_mode": {
    "name": "ipython",
    "version": 3
   },
   "file_extension": ".py",
   "mimetype": "text/x-python",
   "name": "python",
   "nbconvert_exporter": "python",
   "pygments_lexer": "ipython3",
   "version": "3.8.16"
  }
 },
 "nbformat": 4,
 "nbformat_minor": 2
}
